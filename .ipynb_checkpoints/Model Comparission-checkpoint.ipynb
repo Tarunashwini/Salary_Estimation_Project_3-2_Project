{
 "cells": [
  {
   "cell_type": "code",
   "execution_count": 34,
   "id": "c4b965ff",
   "metadata": {},
   "outputs": [],
   "source": [
    "#Importing the requried files\n",
    "\n",
    "import pandas as pd\n",
    "import numpy as np\n",
    "import matplotlib.pyplot as plt\n",
    "import seaborn as sns"
   ]
  },
  {
   "cell_type": "code",
   "execution_count": 35,
   "id": "cefad80f",
   "metadata": {},
   "outputs": [],
   "source": [
    "df = pd.read_csv(\"C:/Users/Tarun/OneDrive/Desktop/pppp/Internship_Engineering_graduate_salary - Copy (1).csv\")"
   ]
  },
  {
   "cell_type": "code",
   "execution_count": 36,
   "id": "80ef7b09",
   "metadata": {},
   "outputs": [],
   "source": [
    "data = df.copy()"
   ]
  },
  {
   "cell_type": "code",
   "execution_count": 37,
   "id": "c7e0c7ea",
   "metadata": {},
   "outputs": [
    {
     "data": {
      "text/plain": [
       "Index(['Gender', '10percentage', '12percentage', 'CollegeTier', 'Degree',\n",
       "       'collegeGPA', 'CollegeCityTier', 'GraduationYear', 'English', 'Logical',\n",
       "       'Quant', 'Domain', 'ComputerProgramming', 'ElectronicsAndSemicon',\n",
       "       'ComputerScience', 'MechanicalEngg', 'ElectricalEngg', 'TelecomEngg',\n",
       "       'CivilEngg', 'conscientiousness', 'agreeableness', 'extraversion',\n",
       "       'nueroticism', 'experince', 'openess_to_experience', 'Salary'],\n",
       "      dtype='object')"
      ]
     },
     "execution_count": 37,
     "metadata": {},
     "output_type": "execute_result"
    }
   ],
   "source": [
    "data.columns"
   ]
  },
  {
   "cell_type": "markdown",
   "id": "e642ca28",
   "metadata": {},
   "source": [
    "# Segregating the data_set"
   ]
  },
  {
   "cell_type": "code",
   "execution_count": 38,
   "id": "a0e0e800",
   "metadata": {},
   "outputs": [
    {
     "name": "stdout",
     "output_type": "stream",
     "text": [
      "(2998, 25)\n",
      "<class 'numpy.ndarray'>\n",
      "<class 'numpy.ndarray'>\n"
     ]
    }
   ],
   "source": [
    "from sklearn.model_selection import train_test_split\n",
    "\n",
    "X = data.iloc[:, :-1].values\n",
    "print(X.shape)\n",
    "print(type(X))\n",
    "X\n",
    "\n",
    "y = data.iloc[:, -1].values\n",
    "print(type(y))\n",
    "y\n",
    "\n",
    "X_train, X_test, y_train, y_test = train_test_split(X, y, test_size = 0.20, random_state = 0)"
   ]
  },
  {
   "cell_type": "code",
   "execution_count": null,
   "id": "74e55a63",
   "metadata": {},
   "outputs": [],
   "source": []
  },
  {
   "cell_type": "code",
   "execution_count": 39,
   "id": "ac7d34dc",
   "metadata": {},
   "outputs": [],
   "source": [
    "RMSE = []"
   ]
  },
  {
   "cell_type": "markdown",
   "id": "0cadb201",
   "metadata": {},
   "source": [
    "# Linear Regression"
   ]
  },
  {
   "cell_type": "code",
   "execution_count": 40,
   "id": "d101ad4a",
   "metadata": {},
   "outputs": [
    {
     "data": {
      "text/plain": [
       "LinearRegression()"
      ]
     },
     "execution_count": 40,
     "metadata": {},
     "output_type": "execute_result"
    }
   ],
   "source": [
    "#Linear Regression\n",
    "\n",
    "from sklearn.linear_model import LinearRegression, Lasso\n",
    "\n",
    "\n",
    "lm = LinearRegression()\n",
    "lm.fit(X_train, y_train)"
   ]
  },
  {
   "cell_type": "code",
   "execution_count": 41,
   "id": "aadbb5a2",
   "metadata": {},
   "outputs": [],
   "source": [
    "y_pred = lm.predict(X_test)"
   ]
  },
  {
   "cell_type": "code",
   "execution_count": 42,
   "id": "0ae0bdd1",
   "metadata": {},
   "outputs": [
    {
     "data": {
      "text/plain": [
       "215624"
      ]
     },
     "execution_count": 42,
     "metadata": {},
     "output_type": "execute_result"
    }
   ],
   "source": [
    "from sklearn.metrics import mean_absolute_error\n",
    "LER = int(mean_absolute_error(y_test, y_pred))\n",
    "RMSE.append(LER)\n",
    "LER"
   ]
  },
  {
   "cell_type": "code",
   "execution_count": null,
   "id": "1ca85f0d",
   "metadata": {},
   "outputs": [],
   "source": []
  },
  {
   "cell_type": "markdown",
   "id": "6d0ff356",
   "metadata": {},
   "source": [
    "# Support Vector Regression"
   ]
  },
  {
   "cell_type": "code",
   "execution_count": 43,
   "id": "7aa920a9",
   "metadata": {},
   "outputs": [],
   "source": [
    "#SVR\n",
    "\n",
    "from sklearn.svm import SVR\n",
    "from sklearn.pipeline import make_pipeline\n",
    "from sklearn.preprocessing import StandardScaler"
   ]
  },
  {
   "cell_type": "code",
   "execution_count": 44,
   "id": "e5901111",
   "metadata": {},
   "outputs": [
    {
     "data": {
      "text/plain": [
       "Pipeline(steps=[('standardscaler', StandardScaler()),\n",
       "                ('svr', SVR(epsilon=0.2))])"
      ]
     },
     "execution_count": 44,
     "metadata": {},
     "output_type": "execute_result"
    }
   ],
   "source": [
    "svr = make_pipeline(StandardScaler(), SVR(C=1.0, epsilon=0.2))\n",
    "svr.fit(X_train, y_train)"
   ]
  },
  {
   "cell_type": "code",
   "execution_count": 45,
   "id": "62ef819c",
   "metadata": {},
   "outputs": [],
   "source": [
    "y_pred = svr.predict(X_test)"
   ]
  },
  {
   "cell_type": "code",
   "execution_count": 46,
   "id": "b985f87a",
   "metadata": {},
   "outputs": [
    {
     "data": {
      "text/plain": [
       "121477"
      ]
     },
     "execution_count": 46,
     "metadata": {},
     "output_type": "execute_result"
    }
   ],
   "source": [
    "LSER = int(mean_absolute_error(y_test, y_pred))\n",
    "RMSE.append(LSER)\n",
    "LSER"
   ]
  },
  {
   "cell_type": "code",
   "execution_count": null,
   "id": "1e8f1a30",
   "metadata": {},
   "outputs": [],
   "source": []
  },
  {
   "cell_type": "markdown",
   "id": "b7360ae0",
   "metadata": {},
   "source": [
    "# Decision Tree"
   ]
  },
  {
   "cell_type": "code",
   "execution_count": 47,
   "id": "2464c890",
   "metadata": {},
   "outputs": [],
   "source": [
    "#Decision Tree\n",
    "from sklearn.tree import DecisionTreeRegressor"
   ]
  },
  {
   "cell_type": "code",
   "execution_count": 48,
   "id": "32b799aa",
   "metadata": {},
   "outputs": [
    {
     "data": {
      "text/plain": [
       "DecisionTreeRegressor(max_depth=5)"
      ]
     },
     "execution_count": 48,
     "metadata": {},
     "output_type": "execute_result"
    }
   ],
   "source": [
    "Dec_reg1 = DecisionTreeRegressor(max_depth=2)\n",
    "Dec_reg2 = DecisionTreeRegressor(max_depth=5)\n",
    "Dec_reg1.fit(X_train, y_train)\n",
    "Dec_reg2.fit(X_train, y_train)"
   ]
  },
  {
   "cell_type": "code",
   "execution_count": 49,
   "id": "6a982bc9",
   "metadata": {},
   "outputs": [],
   "source": [
    "y_pred1 = Dec_reg1.predict(X_test)\n",
    "y_pred2 = Dec_reg2.predict(X_test)"
   ]
  },
  {
   "cell_type": "code",
   "execution_count": 50,
   "id": "6e57b295",
   "metadata": {},
   "outputs": [
    {
     "data": {
      "text/plain": [
       "121477"
      ]
     },
     "execution_count": 50,
     "metadata": {},
     "output_type": "execute_result"
    }
   ],
   "source": [
    "DTER = int(mean_absolute_error(y_test, y_pred))\n",
    "RMSE.append(DTER)\n",
    "DTER"
   ]
  },
  {
   "cell_type": "code",
   "execution_count": null,
   "id": "71574ba0",
   "metadata": {},
   "outputs": [],
   "source": []
  },
  {
   "cell_type": "markdown",
   "id": "9988a3c8",
   "metadata": {},
   "source": [
    "# Random Forest "
   ]
  },
  {
   "cell_type": "code",
   "execution_count": 51,
   "id": "13447e72",
   "metadata": {},
   "outputs": [
    {
     "data": {
      "text/plain": [
       "RandomForestRegressor()"
      ]
     },
     "execution_count": 51,
     "metadata": {},
     "output_type": "execute_result"
    }
   ],
   "source": [
    "#RandomForest\n",
    "from sklearn.ensemble import RandomForestRegressor\n",
    "ram_for = RandomForestRegressor()\n",
    "ram_for.fit(X_train, y_train)"
   ]
  },
  {
   "cell_type": "code",
   "execution_count": 52,
   "id": "05c1beed",
   "metadata": {},
   "outputs": [],
   "source": [
    "y_pred = ram_for.predict(X_test)"
   ]
  },
  {
   "cell_type": "code",
   "execution_count": 53,
   "id": "d137a6a0",
   "metadata": {},
   "outputs": [
    {
     "data": {
      "text/plain": [
       "112059"
      ]
     },
     "execution_count": 53,
     "metadata": {},
     "output_type": "execute_result"
    }
   ],
   "source": [
    "RFER = int(mean_absolute_error(y_test, y_pred))\n",
    "RMSE.append(RFER)\n",
    "RFER"
   ]
  },
  {
   "cell_type": "code",
   "execution_count": 54,
   "id": "ce170877",
   "metadata": {},
   "outputs": [
    {
     "data": {
      "text/plain": [
       "[215624, 121477, 121477, 112059]"
      ]
     },
     "execution_count": 54,
     "metadata": {},
     "output_type": "execute_result"
    }
   ],
   "source": [
    "RMSE"
   ]
  },
  {
   "cell_type": "code",
   "execution_count": 55,
   "id": "4bf97ec6",
   "metadata": {},
   "outputs": [],
   "source": []
  },
  {
   "cell_type": "markdown",
   "id": "cc7d4d8e",
   "metadata": {},
   "source": [
    "# Comparing all algorithms"
   ]
  },
  {
   "cell_type": "code",
   "execution_count": 56,
   "id": "6c2b1d0a",
   "metadata": {},
   "outputs": [],
   "source": [
    "ll = [1,2,3,4]"
   ]
  },
  {
   "cell_type": "code",
   "execution_count": 57,
   "id": "08821b38",
   "metadata": {},
   "outputs": [],
   "source": [
    "models = ['linear', 'SVR', 'D-Tree', 'Ram_forst']"
   ]
  },
  {
   "cell_type": "code",
   "execution_count": 58,
   "id": "67f6b977",
   "metadata": {},
   "outputs": [
    {
     "data": {
      "text/plain": [
       "[<matplotlib.lines.Line2D at 0x1d3e7e2af70>]"
      ]
     },
     "execution_count": 58,
     "metadata": {},
     "output_type": "execute_result"
    },
    {
     "data": {
      "image/png": "[encoded data removed]",
      "text/plain": [
       "<Figure size 1008x432 with 1 Axes>"
      ]
     },
     "metadata": {
      "needs_background": "light"
     },
     "output_type": "display_data"
    }
   ],
   "source": [
    "import matplotlib.pyplot as plt\n",
    "\n",
    "fig = plt.figure(figsize = (14,6))\n",
    "\n",
    "plt.scatter(models,RMSE, color = 'red')\n",
    "plt.plot(models, RMSE)"
   ]
  },
  {
   "cell_type": "code",
   "execution_count": 61,
   "id": "d61a5138",
   "metadata": {},
   "outputs": [],
   "source": [
    "models1 = [121477, 121477, 112059]"
   ]
  },
  {
   "cell_type": "code",
   "execution_count": 62,
   "id": "341324e2",
   "metadata": {},
   "outputs": [
    {
     "data": {
      "text/plain": [
       "[<matplotlib.lines.Line2D at 0x1d3e81387c0>]"
      ]
     },
     "execution_count": 62,
     "metadata": {},
     "output_type": "execute_result"
    },
    {
     "data": {
      "image/png": "[encoded data removed]",
      "text/plain": [
       "<Figure size 1008x432 with 1 Axes>"
      ]
     },
     "metadata": {
      "needs_background": "light"
     },
     "output_type": "display_data"
    }
   ],
   "source": [
    "import matplotlib.pyplot as plt\n",
    "\n",
    "fig = plt.figure(figsize = (14,6))\n",
    "\n",
    "plt.scatter(['SVR', 'D-Tree', 'Ram_forst'],models1, color = 'red')\n",
    "plt.plot(['SVR', 'D-Tree', 'Ram_forst'], models1)"
   ]
  }
 ],
 "metadata": {
  "kernelspec": {
   "display_name": "Python 3 (ipykernel)",
   "language": "python",
   "name": "python3"
  },
  "language_info": {
   "codemirror_mode": {
    "name": "ipython",
    "version": 3
   },
   "file_extension": ".py",
   "mimetype": "text/x-python",
   "name": "python",
   "nbconvert_exporter": "python",
   "pygments_lexer": "ipython3",
   "version": "3.9.7"
  }
 },
 "nbformat": 4,
 "nbformat_minor": 5
}

{
 "cells": [
  {
   "cell_type": "code",
   "execution_count": 1,
   "id": "c4b965ff",
   "metadata": {},
   "outputs": [],
   "source": [
    "#Importing the requried files\n",
    "\n",
    "import pandas as pd\n",
    "import numpy as np\n",
    "import matplotlib.pyplot as plt\n",
    "import seaborn as sns"
   ]
  },
  {
   "cell_type": "code",
   "execution_count": 2,
   "id": "cefad80f",
   "metadata": {},
   "outputs": [
    {
     "data": {
      "text/html": [
       "<div>\n",
       "<style scoped>\n",
       "    .dataframe tbody tr th:only-of-type {\n",
       "        vertical-align: middle;\n",
       "    }\n",
       "\n",
       "    .dataframe tbody tr th {\n",
       "        vertical-align: top;\n",
       "    }\n",
       "\n",
       "    .dataframe thead th {\n",
       "        text-align: right;\n",
       "    }\n",
       "</style>\n",
       "<table border=\"1\" class=\"dataframe\">\n",
       "  <thead>\n",
       "    <tr style=\"text-align: right;\">\n",
       "      <th></th>\n",
       "      <th>Gender</th>\n",
       "      <th>10percentage</th>\n",
       "      <th>12percentage</th>\n",
       "      <th>CollegeTier</th>\n",
       "      <th>Degree</th>\n",
       "      <th>collegeGPA</th>\n",
       "      <th>CollegeCityTier</th>\n",
       "      <th>GraduationYear</th>\n",
       "      <th>English</th>\n",
       "      <th>Logical</th>\n",
       "      <th>...</th>\n",
       "      <th>ElectricalEngg</th>\n",
       "      <th>TelecomEngg</th>\n",
       "      <th>CivilEngg</th>\n",
       "      <th>conscientiousness</th>\n",
       "      <th>agreeableness</th>\n",
       "      <th>extraversion</th>\n",
       "      <th>nueroticism</th>\n",
       "      <th>experince</th>\n",
       "      <th>openess_to_experience</th>\n",
       "      <th>Salary</th>\n",
       "    </tr>\n",
       "  </thead>\n",
       "  <tbody>\n",
       "    <tr>\n",
       "      <th>0</th>\n",
       "      <td>0</td>\n",
       "      <td>87.80</td>\n",
       "      <td>84.00</td>\n",
       "      <td>1</td>\n",
       "      <td>0</td>\n",
       "      <td>73.82</td>\n",
       "      <td>1</td>\n",
       "      <td>2013</td>\n",
       "      <td>650</td>\n",
       "      <td>665</td>\n",
       "      <td>...</td>\n",
       "      <td>-1</td>\n",
       "      <td>-1</td>\n",
       "      <td>-1</td>\n",
       "      <td>-0.1590</td>\n",
       "      <td>0.3789</td>\n",
       "      <td>1.2396</td>\n",
       "      <td>0.14590</td>\n",
       "      <td>1</td>\n",
       "      <td>0.2889</td>\n",
       "      <td>445000</td>\n",
       "    </tr>\n",
       "    <tr>\n",
       "      <th>1</th>\n",
       "      <td>1</td>\n",
       "      <td>57.00</td>\n",
       "      <td>64.50</td>\n",
       "      <td>2</td>\n",
       "      <td>0</td>\n",
       "      <td>65.00</td>\n",
       "      <td>0</td>\n",
       "      <td>2014</td>\n",
       "      <td>440</td>\n",
       "      <td>435</td>\n",
       "      <td>...</td>\n",
       "      <td>-1</td>\n",
       "      <td>-1</td>\n",
       "      <td>-1</td>\n",
       "      <td>1.1336</td>\n",
       "      <td>0.0459</td>\n",
       "      <td>1.2396</td>\n",
       "      <td>0.52620</td>\n",
       "      <td>1</td>\n",
       "      <td>-0.2859</td>\n",
       "      <td>110000</td>\n",
       "    </tr>\n",
       "    <tr>\n",
       "      <th>2</th>\n",
       "      <td>1</td>\n",
       "      <td>77.33</td>\n",
       "      <td>85.17</td>\n",
       "      <td>2</td>\n",
       "      <td>0</td>\n",
       "      <td>61.94</td>\n",
       "      <td>0</td>\n",
       "      <td>2011</td>\n",
       "      <td>485</td>\n",
       "      <td>475</td>\n",
       "      <td>...</td>\n",
       "      <td>-1</td>\n",
       "      <td>260</td>\n",
       "      <td>-1</td>\n",
       "      <td>0.5100</td>\n",
       "      <td>-0.1232</td>\n",
       "      <td>1.5428</td>\n",
       "      <td>-0.29020</td>\n",
       "      <td>0</td>\n",
       "      <td>-0.2875</td>\n",
       "      <td>255000</td>\n",
       "    </tr>\n",
       "    <tr>\n",
       "      <th>3</th>\n",
       "      <td>1</td>\n",
       "      <td>84.30</td>\n",
       "      <td>86.00</td>\n",
       "      <td>1</td>\n",
       "      <td>0</td>\n",
       "      <td>80.40</td>\n",
       "      <td>1</td>\n",
       "      <td>2013</td>\n",
       "      <td>675</td>\n",
       "      <td>620</td>\n",
       "      <td>...</td>\n",
       "      <td>-1</td>\n",
       "      <td>-1</td>\n",
       "      <td>-1</td>\n",
       "      <td>-0.4463</td>\n",
       "      <td>0.2124</td>\n",
       "      <td>0.3174</td>\n",
       "      <td>0.27270</td>\n",
       "      <td>1</td>\n",
       "      <td>0.4805</td>\n",
       "      <td>420000</td>\n",
       "    </tr>\n",
       "    <tr>\n",
       "      <th>4</th>\n",
       "      <td>0</td>\n",
       "      <td>82.00</td>\n",
       "      <td>75.00</td>\n",
       "      <td>2</td>\n",
       "      <td>0</td>\n",
       "      <td>64.30</td>\n",
       "      <td>1</td>\n",
       "      <td>2012</td>\n",
       "      <td>575</td>\n",
       "      <td>495</td>\n",
       "      <td>...</td>\n",
       "      <td>-1</td>\n",
       "      <td>-1</td>\n",
       "      <td>-1</td>\n",
       "      <td>-1.4992</td>\n",
       "      <td>-0.7473</td>\n",
       "      <td>-1.0697</td>\n",
       "      <td>0.06223</td>\n",
       "      <td>0</td>\n",
       "      <td>0.1864</td>\n",
       "      <td>200000</td>\n",
       "    </tr>\n",
       "    <tr>\n",
       "      <th>...</th>\n",
       "      <td>...</td>\n",
       "      <td>...</td>\n",
       "      <td>...</td>\n",
       "      <td>...</td>\n",
       "      <td>...</td>\n",
       "      <td>...</td>\n",
       "      <td>...</td>\n",
       "      <td>...</td>\n",
       "      <td>...</td>\n",
       "      <td>...</td>\n",
       "      <td>...</td>\n",
       "      <td>...</td>\n",
       "      <td>...</td>\n",
       "      <td>...</td>\n",
       "      <td>...</td>\n",
       "      <td>...</td>\n",
       "      <td>...</td>\n",
       "      <td>...</td>\n",
       "      <td>...</td>\n",
       "      <td>...</td>\n",
       "      <td>...</td>\n",
       "    </tr>\n",
       "    <tr>\n",
       "      <th>2993</th>\n",
       "      <td>0</td>\n",
       "      <td>75.00</td>\n",
       "      <td>73.00</td>\n",
       "      <td>2</td>\n",
       "      <td>0</td>\n",
       "      <td>70.00</td>\n",
       "      <td>1</td>\n",
       "      <td>2010</td>\n",
       "      <td>505</td>\n",
       "      <td>485</td>\n",
       "      <td>...</td>\n",
       "      <td>-1</td>\n",
       "      <td>-1</td>\n",
       "      <td>-1</td>\n",
       "      <td>-1.1901</td>\n",
       "      <td>0.9688</td>\n",
       "      <td>-1.0697</td>\n",
       "      <td>1.35490</td>\n",
       "      <td>0</td>\n",
       "      <td>0.0284</td>\n",
       "      <td>120000</td>\n",
       "    </tr>\n",
       "    <tr>\n",
       "      <th>2994</th>\n",
       "      <td>0</td>\n",
       "      <td>84.00</td>\n",
       "      <td>77.00</td>\n",
       "      <td>2</td>\n",
       "      <td>0</td>\n",
       "      <td>75.20</td>\n",
       "      <td>0</td>\n",
       "      <td>2012</td>\n",
       "      <td>345</td>\n",
       "      <td>585</td>\n",
       "      <td>...</td>\n",
       "      <td>-1</td>\n",
       "      <td>-1</td>\n",
       "      <td>-1</td>\n",
       "      <td>-0.1082</td>\n",
       "      <td>0.0328</td>\n",
       "      <td>-0.4891</td>\n",
       "      <td>-0.29020</td>\n",
       "      <td>0</td>\n",
       "      <td>0.5024</td>\n",
       "      <td>120000</td>\n",
       "    </tr>\n",
       "    <tr>\n",
       "      <th>2995</th>\n",
       "      <td>1</td>\n",
       "      <td>91.40</td>\n",
       "      <td>65.56</td>\n",
       "      <td>2</td>\n",
       "      <td>0</td>\n",
       "      <td>73.19</td>\n",
       "      <td>0</td>\n",
       "      <td>2011</td>\n",
       "      <td>385</td>\n",
       "      <td>425</td>\n",
       "      <td>...</td>\n",
       "      <td>-1</td>\n",
       "      <td>-1</td>\n",
       "      <td>-1</td>\n",
       "      <td>-0.8810</td>\n",
       "      <td>0.1888</td>\n",
       "      <td>-0.3440</td>\n",
       "      <td>0.06230</td>\n",
       "      <td>0</td>\n",
       "      <td>0.6603</td>\n",
       "      <td>385000</td>\n",
       "    </tr>\n",
       "    <tr>\n",
       "      <th>2996</th>\n",
       "      <td>1</td>\n",
       "      <td>88.64</td>\n",
       "      <td>65.16</td>\n",
       "      <td>2</td>\n",
       "      <td>0</td>\n",
       "      <td>74.81</td>\n",
       "      <td>1</td>\n",
       "      <td>2011</td>\n",
       "      <td>465</td>\n",
       "      <td>645</td>\n",
       "      <td>...</td>\n",
       "      <td>-1</td>\n",
       "      <td>-1</td>\n",
       "      <td>-1</td>\n",
       "      <td>1.4374</td>\n",
       "      <td>1.2808</td>\n",
       "      <td>-0.4891</td>\n",
       "      <td>-1.46537</td>\n",
       "      <td>0</td>\n",
       "      <td>0.5419</td>\n",
       "      <td>530000</td>\n",
       "    </tr>\n",
       "    <tr>\n",
       "      <th>2997</th>\n",
       "      <td>1</td>\n",
       "      <td>77.00</td>\n",
       "      <td>75.50</td>\n",
       "      <td>2</td>\n",
       "      <td>0</td>\n",
       "      <td>69.30</td>\n",
       "      <td>0</td>\n",
       "      <td>2013</td>\n",
       "      <td>370</td>\n",
       "      <td>390</td>\n",
       "      <td>...</td>\n",
       "      <td>-1</td>\n",
       "      <td>-1</td>\n",
       "      <td>-1</td>\n",
       "      <td>-0.5899</td>\n",
       "      <td>-1.9521</td>\n",
       "      <td>0.3174</td>\n",
       "      <td>1.16010</td>\n",
       "      <td>1</td>\n",
       "      <td>-2.3937</td>\n",
       "      <td>200000</td>\n",
       "    </tr>\n",
       "  </tbody>\n",
       "</table>\n",
       "<p>2998 rows × 26 columns</p>\n",
       "</div>"
      ],
      "text/plain": [
       "      Gender  10percentage  12percentage  CollegeTier  Degree  collegeGPA  \\\n",
       "0          0         87.80         84.00            1       0       73.82   \n",
       "1          1         57.00         64.50            2       0       65.00   \n",
       "2          1         77.33         85.17            2       0       61.94   \n",
       "3          1         84.30         86.00            1       0       80.40   \n",
       "4          0         82.00         75.00            2       0       64.30   \n",
       "...      ...           ...           ...          ...     ...         ...   \n",
       "2993       0         75.00         73.00            2       0       70.00   \n",
       "2994       0         84.00         77.00            2       0       75.20   \n",
       "2995       1         91.40         65.56            2       0       73.19   \n",
       "2996       1         88.64         65.16            2       0       74.81   \n",
       "2997       1         77.00         75.50            2       0       69.30   \n",
       "\n",
       "      CollegeCityTier  GraduationYear  English  Logical  ...  ElectricalEngg  \\\n",
       "0                   1            2013      650      665  ...              -1   \n",
       "1                   0            2014      440      435  ...              -1   \n",
       "2                   0            2011      485      475  ...              -1   \n",
       "3                   1            2013      675      620  ...              -1   \n",
       "4                   1            2012      575      495  ...              -1   \n",
       "...               ...             ...      ...      ...  ...             ...   \n",
       "2993                1            2010      505      485  ...              -1   \n",
       "2994                0            2012      345      585  ...              -1   \n",
       "2995                0            2011      385      425  ...              -1   \n",
       "2996                1            2011      465      645  ...              -1   \n",
       "2997                0            2013      370      390  ...              -1   \n",
       "\n",
       "      TelecomEngg  CivilEngg  conscientiousness  agreeableness  extraversion  \\\n",
       "0              -1         -1            -0.1590         0.3789        1.2396   \n",
       "1              -1         -1             1.1336         0.0459        1.2396   \n",
       "2             260         -1             0.5100        -0.1232        1.5428   \n",
       "3              -1         -1            -0.4463         0.2124        0.3174   \n",
       "4              -1         -1            -1.4992        -0.7473       -1.0697   \n",
       "...           ...        ...                ...            ...           ...   \n",
       "2993           -1         -1            -1.1901         0.9688       -1.0697   \n",
       "2994           -1         -1            -0.1082         0.0328       -0.4891   \n",
       "2995           -1         -1            -0.8810         0.1888       -0.3440   \n",
       "2996           -1         -1             1.4374         1.2808       -0.4891   \n",
       "2997           -1         -1            -0.5899        -1.9521        0.3174   \n",
       "\n",
       "      nueroticism  experince  openess_to_experience  Salary  \n",
       "0         0.14590          1                 0.2889  445000  \n",
       "1         0.52620          1                -0.2859  110000  \n",
       "2        -0.29020          0                -0.2875  255000  \n",
       "3         0.27270          1                 0.4805  420000  \n",
       "4         0.06223          0                 0.1864  200000  \n",
       "...           ...        ...                    ...     ...  \n",
       "2993      1.35490          0                 0.0284  120000  \n",
       "2994     -0.29020          0                 0.5024  120000  \n",
       "2995      0.06230          0                 0.6603  385000  \n",
       "2996     -1.46537          0                 0.5419  530000  \n",
       "2997      1.16010          1                -2.3937  200000  \n",
       "\n",
       "[2998 rows x 26 columns]"
      ]
     },
     "execution_count": 2,
     "metadata": {},
     "output_type": "execute_result"
    }
   ],
   "source": [
    "df = pd.read_csv(\"C:/Users/Tarun/OneDrive/Desktop/pppp/Internship_Engineering_graduate_salary - Copy (1).csv\")\n",
    "df"
   ]
  },
  {
   "cell_type": "code",
   "execution_count": 3,
   "id": "b143eddb",
   "metadata": {},
   "outputs": [],
   "source": [
    "# df = pd.read_csv(\"C:/Users/Tarun/OneDrive/Desktop/pppp/Training_Data.csv\")"
   ]
  },
  {
   "cell_type": "code",
   "execution_count": 4,
   "id": "80ef7b09",
   "metadata": {},
   "outputs": [],
   "source": [
    "data = df.copy()"
   ]
  },
  {
   "cell_type": "code",
   "execution_count": 5,
   "id": "c7e0c7ea",
   "metadata": {},
   "outputs": [
    {
     "data": {
      "text/plain": [
       "Index(['Gender', '10percentage', '12percentage', 'CollegeTier', 'Degree',\n",
       "       'collegeGPA', 'CollegeCityTier', 'GraduationYear', 'English', 'Logical',\n",
       "       'Quant', 'Domain', 'ComputerProgramming', 'ElectronicsAndSemicon',\n",
       "       'ComputerScience', 'MechanicalEngg', 'ElectricalEngg', 'TelecomEngg',\n",
       "       'CivilEngg', 'conscientiousness', 'agreeableness', 'extraversion',\n",
       "       'nueroticism', 'experince', 'openess_to_experience', 'Salary'],\n",
       "      dtype='object')"
      ]
     },
     "execution_count": 5,
     "metadata": {},
     "output_type": "execute_result"
    }
   ],
   "source": [
    "data.columns"
   ]
  },
  {
   "cell_type": "markdown",
   "id": "e642ca28",
   "metadata": {},
   "source": [
    "# Segregating the data_set"
   ]
  },
  {
   "cell_type": "code",
   "execution_count": 7,
   "id": "a0e0e800",
   "metadata": {},
   "outputs": [
    {
     "name": "stdout",
     "output_type": "stream",
     "text": [
      "(2998, 25)\n",
      "<class 'numpy.ndarray'>\n",
      "<class 'numpy.ndarray'>\n"
     ]
    }
   ],
   "source": [
    "from sklearn.model_selection import train_test_split\n",
    "\n",
    "X = data.iloc[:, :-1].values\n",
    "print(X.shape)\n",
    "print(type(X))\n",
    "X\n",
    "\n",
    "y = data.iloc[:, -1].values\n",
    "print(type(y))\n",
    "y\n",
    "\n",
    "X_train, X_test, y_train, y_test = train_test_split(X, y, test_size = 0.20, random_state = 0)"
   ]
  },
  {
   "cell_type": "code",
   "execution_count": null,
   "id": "74e55a63",
   "metadata": {},
   "outputs": [],
   "source": []
  },
  {
   "cell_type": "code",
   "execution_count": 8,
   "id": "ac7d34dc",
   "metadata": {},
   "outputs": [],
   "source": [
    "RMSE = []"
   ]
  },
  {
   "cell_type": "markdown",
   "id": "0cadb201",
   "metadata": {},
   "source": [
    "# Linear Regression"
   ]
  },
  {
   "cell_type": "code",
   "execution_count": 9,
   "id": "d101ad4a",
   "metadata": {},
   "outputs": [
    {
     "data": {
      "text/plain": [
       "LinearRegression()"
      ]
     },
     "execution_count": 9,
     "metadata": {},
     "output_type": "execute_result"
    }
   ],
   "source": [
    "#Linear Regression\n",
    "\n",
    "from sklearn.linear_model import LinearRegression, Lasso\n",
    "\n",
    "\n",
    "lm = LinearRegression()\n",
    "lm.fit(X_train, y_train)"
   ]
  },
  {
   "cell_type": "code",
   "execution_count": 10,
   "id": "aadbb5a2",
   "metadata": {},
   "outputs": [],
   "source": [
    "y_pred = lm.predict(X_test)"
   ]
  },
  {
   "cell_type": "code",
   "execution_count": 11,
   "id": "0ae0bdd1",
   "metadata": {},
   "outputs": [
    {
     "data": {
      "text/plain": [
       "215624"
      ]
     },
     "execution_count": 11,
     "metadata": {},
     "output_type": "execute_result"
    }
   ],
   "source": [
    "from sklearn.metrics import mean_absolute_error\n",
    "LER = int(mean_absolute_error(y_test, y_pred))\n",
    "RMSE.append(LER)\n",
    "LER"
   ]
  },
  {
   "cell_type": "code",
   "execution_count": null,
   "id": "1ca85f0d",
   "metadata": {},
   "outputs": [],
   "source": []
  },
  {
   "cell_type": "markdown",
   "id": "6d0ff356",
   "metadata": {},
   "source": [
    "# Support Vector Regression"
   ]
  },
  {
   "cell_type": "code",
   "execution_count": 12,
   "id": "7aa920a9",
   "metadata": {},
   "outputs": [],
   "source": [
    "#SVR\n",
    "\n",
    "from sklearn.svm import SVR\n",
    "from sklearn.pipeline import make_pipeline\n",
    "from sklearn.preprocessing import StandardScaler"
   ]
  },
  {
   "cell_type": "code",
   "execution_count": 13,
   "id": "e5901111",
   "metadata": {},
   "outputs": [
    {
     "data": {
      "text/plain": [
       "Pipeline(steps=[('standardscaler', StandardScaler()),\n",
       "                ('svr', SVR(epsilon=0.2))])"
      ]
     },
     "execution_count": 13,
     "metadata": {},
     "output_type": "execute_result"
    }
   ],
   "source": [
    "svr = make_pipeline(StandardScaler(), SVR(C=1.0, epsilon=0.2))\n",
    "svr.fit(X_train, y_train)"
   ]
  },
  {
   "cell_type": "code",
   "execution_count": 14,
   "id": "62ef819c",
   "metadata": {},
   "outputs": [],
   "source": [
    "y_pred = svr.predict(X_test)"
   ]
  },
  {
   "cell_type": "code",
   "execution_count": 15,
   "id": "b985f87a",
   "metadata": {},
   "outputs": [
    {
     "data": {
      "text/plain": [
       "121477"
      ]
     },
     "execution_count": 15,
     "metadata": {},
     "output_type": "execute_result"
    }
   ],
   "source": [
    "LSER = int(mean_absolute_error(y_test, y_pred))\n",
    "RMSE.append(LSER)\n",
    "LSER"
   ]
  },
  {
   "cell_type": "code",
   "execution_count": null,
   "id": "1e8f1a30",
   "metadata": {},
   "outputs": [],
   "source": []
  },
  {
   "cell_type": "markdown",
   "id": "b7360ae0",
   "metadata": {},
   "source": [
    "# Decision Tree"
   ]
  },
  {
   "cell_type": "code",
   "execution_count": 16,
   "id": "2464c890",
   "metadata": {},
   "outputs": [],
   "source": [
    "#Decision Tree\n",
    "from sklearn.tree import DecisionTreeRegressor"
   ]
  },
  {
   "cell_type": "code",
   "execution_count": 17,
   "id": "32b799aa",
   "metadata": {},
   "outputs": [
    {
     "data": {
      "text/plain": [
       "DecisionTreeRegressor(max_depth=5)"
      ]
     },
     "execution_count": 17,
     "metadata": {},
     "output_type": "execute_result"
    }
   ],
   "source": [
    "Dec_reg1 = DecisionTreeRegressor(max_depth=2)\n",
    "Dec_reg2 = DecisionTreeRegressor(max_depth=5)\n",
    "Dec_reg1.fit(X_train, y_train)\n",
    "Dec_reg2.fit(X_train, y_train)"
   ]
  },
  {
   "cell_type": "code",
   "execution_count": 18,
   "id": "6a982bc9",
   "metadata": {},
   "outputs": [],
   "source": [
    "y_pred1 = Dec_reg1.predict(X_test)\n",
    "y_pred2 = Dec_reg2.predict(X_test)"
   ]
  },
  {
   "cell_type": "code",
   "execution_count": 19,
   "id": "6e57b295",
   "metadata": {},
   "outputs": [
    {
     "data": {
      "text/plain": [
       "121477"
      ]
     },
     "execution_count": 19,
     "metadata": {},
     "output_type": "execute_result"
    }
   ],
   "source": [
    "DTER = int(mean_absolute_error(y_test, y_pred))\n",
    "RMSE.append(DTER)\n",
    "DTER"
   ]
  },
  {
   "cell_type": "code",
   "execution_count": null,
   "id": "71574ba0",
   "metadata": {},
   "outputs": [],
   "source": []
  },
  {
   "cell_type": "markdown",
   "id": "9988a3c8",
   "metadata": {},
   "source": [
    "# Random Forest "
   ]
  },
  {
   "cell_type": "code",
   "execution_count": 20,
   "id": "13447e72",
   "metadata": {},
   "outputs": [
    {
     "data": {
      "text/plain": [
       "RandomForestRegressor()"
      ]
     },
     "execution_count": 20,
     "metadata": {},
     "output_type": "execute_result"
    }
   ],
   "source": [
    "#RandomForest\n",
    "from sklearn.ensemble import RandomForestRegressor\n",
    "ram_for = RandomForestRegressor()\n",
    "ram_for.fit(X_train, y_train)"
   ]
  },
  {
   "cell_type": "code",
   "execution_count": 21,
   "id": "05c1beed",
   "metadata": {},
   "outputs": [],
   "source": [
    "y_pred = ram_for.predict(X_test)"
   ]
  },
  {
   "cell_type": "code",
   "execution_count": 22,
   "id": "d137a6a0",
   "metadata": {},
   "outputs": [
    {
     "data": {
      "text/plain": [
       "110757"
      ]
     },
     "execution_count": 22,
     "metadata": {},
     "output_type": "execute_result"
    }
   ],
   "source": [
    "RFER = int(mean_absolute_error(y_test, y_pred))\n",
    "RMSE.append(RFER)\n",
    "RFER"
   ]
  },
  {
   "cell_type": "code",
   "execution_count": 23,
   "id": "ce170877",
   "metadata": {},
   "outputs": [
    {
     "data": {
      "text/plain": [
       "[215624, 121477, 121477, 110757]"
      ]
     },
     "execution_count": 23,
     "metadata": {},
     "output_type": "execute_result"
    }
   ],
   "source": [
    "RMSE"
   ]
  },
  {
   "cell_type": "code",
   "execution_count": null,
   "id": "4bf97ec6",
   "metadata": {},
   "outputs": [],
   "source": []
  },
  {
   "cell_type": "markdown",
   "id": "cc7d4d8e",
   "metadata": {},
   "source": [
    "# Comparing all algorithms"
   ]
  },
  {
   "cell_type": "code",
   "execution_count": 24,
   "id": "6c2b1d0a",
   "metadata": {},
   "outputs": [],
   "source": [
    "ll = [1,2,3,4]"
   ]
  },
  {
   "cell_type": "code",
   "execution_count": 25,
   "id": "08821b38",
   "metadata": {},
   "outputs": [],
   "source": [
    "models = ['linear', 'SVR', 'D-Tree', 'Ram_forst']"
   ]
  },
  {
   "cell_type": "code",
   "execution_count": 26,
   "id": "67f6b977",
   "metadata": {},
   "outputs": [
    {
     "data": {
      "text/plain": [
       "[<matplotlib.lines.Line2D at 0x1cd51087340>]"
      ]
     },
     "execution_count": 26,
     "metadata": {},
     "output_type": "execute_result"
    },
    {
     "data": {
      "image/png": "[encoded data removed]",
      "text/plain": [
       "<Figure size 1008x432 with 1 Axes>"
      ]
     },
     "metadata": {
      "needs_background": "light"
     },
     "output_type": "display_data"
    }
   ],
   "source": [
    "import matplotlib.pyplot as plt\n",
    "\n",
    "fig = plt.figure(figsize = (14,6))\n",
    "\n",
    "plt.scatter(models,RMSE, color = 'red')\n",
    "plt.plot(models, RMSE)"
   ]
  },
  {
   "cell_type": "code",
   "execution_count": 27,
   "id": "d61a5138",
   "metadata": {},
   "outputs": [],
   "source": [
    "models1 = [121477, 121477, 112059]"
   ]
  },
  {
   "cell_type": "code",
   "execution_count": 28,
   "id": "341324e2",
   "metadata": {},
   "outputs": [
    {
     "data": {
      "text/plain": [
       "[<matplotlib.lines.Line2D at 0x1cd515bb6a0>]"
      ]
     },
     "execution_count": 28,
     "metadata": {},
     "output_type": "execute_result"
    },
    {
     "data": {
      "image/png": "[encoded data removed]",
      "text/plain": [
       "<Figure size 1008x432 with 1 Axes>"
      ]
     },
     "metadata": {
      "needs_background": "light"
     },
     "output_type": "display_data"
    }
   ],
   "source": [
    "import matplotlib.pyplot as plt\n",
    "\n",
    "fig = plt.figure(figsize = (14,6))\n",
    "\n",
    "plt.scatter(['SVR', 'D-Tree', 'Ram_forst'],models1, color = 'red')\n",
    "plt.plot(['SVR', 'D-Tree', 'Ram_forst'], models1)"
   ]
  },
  {
   "cell_type": "code",
   "execution_count": null,
   "id": "8327ed91",
   "metadata": {},
   "outputs": [],
   "source": []
  }
 ],
 "metadata": {
  "kernelspec": {
   "display_name": "Python 3 (ipykernel)",
   "language": "python",
   "name": "python3"
  },
  "language_info": {
   "codemirror_mode": {
    "name": "ipython",
    "version": 3
   },
   "file_extension": ".py",
   "mimetype": "text/x-python",
   "name": "python",
   "nbconvert_exporter": "python",
   "pygments_lexer": "ipython3",
   "version": "3.9.7"
  }
 },
 "nbformat": 4,
 "nbformat_minor": 5
}
